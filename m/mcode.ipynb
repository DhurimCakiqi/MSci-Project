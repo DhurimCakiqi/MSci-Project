{
 "metadata": {
  "language_info": {
   "codemirror_mode": {
    "name": "ipython",
    "version": 3
   },
   "file_extension": ".py",
   "mimetype": "text/x-python",
   "name": "python",
   "nbconvert_exporter": "python",
   "pygments_lexer": "ipython3",
   "version": "3.8.5-final"
  },
  "orig_nbformat": 2,
  "kernelspec": {
   "name": "python3",
   "display_name": "Python 3",
   "language": "python"
  }
 },
 "nbformat": 4,
 "nbformat_minor": 2,
 "cells": [
  {
   "cell_type": "code",
   "execution_count": 15,
   "metadata": {},
   "outputs": [],
   "source": [
    "import time\n",
    "import os\n",
    "import pandas as pd\n",
    "import numpy as np\n",
    "import matplotlib.pyplot as plt\n",
    "%matplotlib inline \n",
    "import os\n",
    "import parameters as pm\n",
    "from sklearn.model_selection import train_test_split, KFold, GridSearchCV\n",
    "from sklearn.multioutput import MultiOutputRegressor\n",
    "from sklearn.preprocessing import StandardScaler\n",
    "from sklearn import metrics\n",
    "from sklearn.neighbors import KNeighborsRegressor\n",
    "from xgboost import XGBRegressor\n",
    "from sklearn.neural_network import MLPRegressor\n",
    "\n",
    "import joblib\n",
    "\n",
    "import warnings\n",
    "warnings.filterwarnings('ignore')"
   ]
  },
  {
   "cell_type": "code",
   "execution_count": 22,
   "metadata": {},
   "outputs": [],
   "source": [
    "df=pd.read_excel('Datasets.xlsx')"
   ]
  },
  {
   "source": [
    "df.columns"
   ],
   "cell_type": "code",
   "metadata": {},
   "execution_count": 23,
   "outputs": [
    {
     "output_type": "execute_result",
     "data": {
      "text/plain": [
       "Index(['a', 'b', 'af', 'bf', 'as', 'bs', 'afs', 'bfs', 'gamma'], dtype='object')"
      ]
     },
     "metadata": {},
     "execution_count": 23
    }
   ]
  },
  {
   "cell_type": "code",
   "execution_count": 24,
   "metadata": {},
   "outputs": [],
   "source": [
    "df.columns=['a','b','af','bf','as','bs','afs','bfs','gamma']"
   ]
  },
  {
   "cell_type": "code",
   "execution_count": 25,
   "metadata": {},
   "outputs": [
    {
     "output_type": "execute_result",
     "data": {
      "text/plain": [
       "                 a            b           af           bf           as  \\\n",
       "count  1000.000000  1000.000000  1000.000000  1000.000000  1000.000000   \n",
       "mean      5.025111    15.049700    15.049622    15.049656     5.024995   \n",
       "std       2.873815     8.635828     8.635573     8.636252     2.873757   \n",
       "min       0.059031     0.118213     0.128991     0.129856     0.050757   \n",
       "25%       2.543149     7.590680     7.591241     7.591854     2.539712   \n",
       "50%       5.023142    15.040329    15.038783    15.057586     5.025609   \n",
       "75%       7.509415    22.524042    22.512472    22.512893     7.512984   \n",
       "max       9.995399    29.986562    29.978380    29.973802     9.998360   \n",
       "\n",
       "                bs          afs          bfs        gamma  \n",
       "count  1000.000000  1000.000000  1000.000000  1000.000000  \n",
       "mean     15.050389     5.024978    15.050165     0.250509  \n",
       "std       8.635693     2.873618     8.635362     0.144117  \n",
       "min       0.118335     0.057302     0.125278     0.001490  \n",
       "25%       7.568985     2.540751     7.584060     0.126057  \n",
       "50%      15.059490     5.024635    15.049144     0.250365  \n",
       "75%      22.516902     7.513614    22.519252     0.375279  \n",
       "max      29.989239     9.994991    29.990650     0.499537  "
      ],
      "text/html": "<div>\n<style scoped>\n    .dataframe tbody tr th:only-of-type {\n        vertical-align: middle;\n    }\n\n    .dataframe tbody tr th {\n        vertical-align: top;\n    }\n\n    .dataframe thead th {\n        text-align: right;\n    }\n</style>\n<table border=\"1\" class=\"dataframe\">\n  <thead>\n    <tr style=\"text-align: right;\">\n      <th></th>\n      <th>a</th>\n      <th>b</th>\n      <th>af</th>\n      <th>bf</th>\n      <th>as</th>\n      <th>bs</th>\n      <th>afs</th>\n      <th>bfs</th>\n      <th>gamma</th>\n    </tr>\n  </thead>\n  <tbody>\n    <tr>\n      <th>count</th>\n      <td>1000.000000</td>\n      <td>1000.000000</td>\n      <td>1000.000000</td>\n      <td>1000.000000</td>\n      <td>1000.000000</td>\n      <td>1000.000000</td>\n      <td>1000.000000</td>\n      <td>1000.000000</td>\n      <td>1000.000000</td>\n    </tr>\n    <tr>\n      <th>mean</th>\n      <td>5.025111</td>\n      <td>15.049700</td>\n      <td>15.049622</td>\n      <td>15.049656</td>\n      <td>5.024995</td>\n      <td>15.050389</td>\n      <td>5.024978</td>\n      <td>15.050165</td>\n      <td>0.250509</td>\n    </tr>\n    <tr>\n      <th>std</th>\n      <td>2.873815</td>\n      <td>8.635828</td>\n      <td>8.635573</td>\n      <td>8.636252</td>\n      <td>2.873757</td>\n      <td>8.635693</td>\n      <td>2.873618</td>\n      <td>8.635362</td>\n      <td>0.144117</td>\n    </tr>\n    <tr>\n      <th>min</th>\n      <td>0.059031</td>\n      <td>0.118213</td>\n      <td>0.128991</td>\n      <td>0.129856</td>\n      <td>0.050757</td>\n      <td>0.118335</td>\n      <td>0.057302</td>\n      <td>0.125278</td>\n      <td>0.001490</td>\n    </tr>\n    <tr>\n      <th>25%</th>\n      <td>2.543149</td>\n      <td>7.590680</td>\n      <td>7.591241</td>\n      <td>7.591854</td>\n      <td>2.539712</td>\n      <td>7.568985</td>\n      <td>2.540751</td>\n      <td>7.584060</td>\n      <td>0.126057</td>\n    </tr>\n    <tr>\n      <th>50%</th>\n      <td>5.023142</td>\n      <td>15.040329</td>\n      <td>15.038783</td>\n      <td>15.057586</td>\n      <td>5.025609</td>\n      <td>15.059490</td>\n      <td>5.024635</td>\n      <td>15.049144</td>\n      <td>0.250365</td>\n    </tr>\n    <tr>\n      <th>75%</th>\n      <td>7.509415</td>\n      <td>22.524042</td>\n      <td>22.512472</td>\n      <td>22.512893</td>\n      <td>7.512984</td>\n      <td>22.516902</td>\n      <td>7.513614</td>\n      <td>22.519252</td>\n      <td>0.375279</td>\n    </tr>\n    <tr>\n      <th>max</th>\n      <td>9.995399</td>\n      <td>29.986562</td>\n      <td>29.978380</td>\n      <td>29.973802</td>\n      <td>9.998360</td>\n      <td>29.989239</td>\n      <td>9.994991</td>\n      <td>29.990650</td>\n      <td>0.499537</td>\n    </tr>\n  </tbody>\n</table>\n</div>"
     },
     "metadata": {},
     "execution_count": 25
    }
   ],
   "source": [
    "df.describe()"
   ]
  },
  {
   "cell_type": "code",
   "execution_count": 26,
   "metadata": {},
   "outputs": [
    {
     "output_type": "execute_result",
     "data": {
      "text/plain": [
       "          a          b         af         bf        as         bs       afs  \\\n",
       "0  3.225893  18.559327  16.193828   4.065350  4.871501  23.566450  0.973039   \n",
       "1  9.115387  23.441283   9.970221  20.811160  5.234394  23.190420  5.584789   \n",
       "2  8.327136  29.461890   8.404946  21.179917  2.012894   9.085634  8.190205   \n",
       "3  0.826962  22.398697  20.637425  13.384026  5.337620  20.023762  1.991645   \n",
       "4  4.829658  27.050292   2.515170  26.549146  7.417574  20.432999  9.546309   \n",
       "\n",
       "         bfs     gamma  \n",
       "0  15.116654  0.168325  \n",
       "1  14.102595  0.453850  \n",
       "2  25.399357  0.223038  \n",
       "3  11.803443  0.272399  \n",
       "4  16.316979  0.370721  "
      ],
      "text/html": "<div>\n<style scoped>\n    .dataframe tbody tr th:only-of-type {\n        vertical-align: middle;\n    }\n\n    .dataframe tbody tr th {\n        vertical-align: top;\n    }\n\n    .dataframe thead th {\n        text-align: right;\n    }\n</style>\n<table border=\"1\" class=\"dataframe\">\n  <thead>\n    <tr style=\"text-align: right;\">\n      <th></th>\n      <th>a</th>\n      <th>b</th>\n      <th>af</th>\n      <th>bf</th>\n      <th>as</th>\n      <th>bs</th>\n      <th>afs</th>\n      <th>bfs</th>\n      <th>gamma</th>\n    </tr>\n  </thead>\n  <tbody>\n    <tr>\n      <th>0</th>\n      <td>3.225893</td>\n      <td>18.559327</td>\n      <td>16.193828</td>\n      <td>4.065350</td>\n      <td>4.871501</td>\n      <td>23.566450</td>\n      <td>0.973039</td>\n      <td>15.116654</td>\n      <td>0.168325</td>\n    </tr>\n    <tr>\n      <th>1</th>\n      <td>9.115387</td>\n      <td>23.441283</td>\n      <td>9.970221</td>\n      <td>20.811160</td>\n      <td>5.234394</td>\n      <td>23.190420</td>\n      <td>5.584789</td>\n      <td>14.102595</td>\n      <td>0.453850</td>\n    </tr>\n    <tr>\n      <th>2</th>\n      <td>8.327136</td>\n      <td>29.461890</td>\n      <td>8.404946</td>\n      <td>21.179917</td>\n      <td>2.012894</td>\n      <td>9.085634</td>\n      <td>8.190205</td>\n      <td>25.399357</td>\n      <td>0.223038</td>\n    </tr>\n    <tr>\n      <th>3</th>\n      <td>0.826962</td>\n      <td>22.398697</td>\n      <td>20.637425</td>\n      <td>13.384026</td>\n      <td>5.337620</td>\n      <td>20.023762</td>\n      <td>1.991645</td>\n      <td>11.803443</td>\n      <td>0.272399</td>\n    </tr>\n    <tr>\n      <th>4</th>\n      <td>4.829658</td>\n      <td>27.050292</td>\n      <td>2.515170</td>\n      <td>26.549146</td>\n      <td>7.417574</td>\n      <td>20.432999</td>\n      <td>9.546309</td>\n      <td>16.316979</td>\n      <td>0.370721</td>\n    </tr>\n  </tbody>\n</table>\n</div>"
     },
     "metadata": {},
     "execution_count": 26
    }
   ],
   "source": [
    "df.head(5)"
   ]
  },
  {
   "cell_type": "code",
   "execution_count": null,
   "metadata": {},
   "outputs": [],
   "source": []
  }
 ]
}